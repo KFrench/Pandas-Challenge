{
 "cells": [
  {
   "cell_type": "code",
   "execution_count": 1,
   "metadata": {},
   "outputs": [
    {
     "data": {
      "text/html": [
       "<div>\n",
       "<style scoped>\n",
       "    .dataframe tbody tr th:only-of-type {\n",
       "        vertical-align: middle;\n",
       "    }\n",
       "\n",
       "    .dataframe tbody tr th {\n",
       "        vertical-align: top;\n",
       "    }\n",
       "\n",
       "    .dataframe thead th {\n",
       "        text-align: right;\n",
       "    }\n",
       "</style>\n",
       "<table border=\"1\" class=\"dataframe\">\n",
       "  <thead>\n",
       "    <tr style=\"text-align: right;\">\n",
       "      <th></th>\n",
       "      <th>Student ID</th>\n",
       "      <th>student_name</th>\n",
       "      <th>gender</th>\n",
       "      <th>grade</th>\n",
       "      <th>school_name</th>\n",
       "      <th>reading_score</th>\n",
       "      <th>math_score</th>\n",
       "      <th>School ID</th>\n",
       "      <th>type</th>\n",
       "      <th>size</th>\n",
       "      <th>budget</th>\n",
       "    </tr>\n",
       "  </thead>\n",
       "  <tbody>\n",
       "    <tr>\n",
       "      <td>0</td>\n",
       "      <td>0</td>\n",
       "      <td>Paul Bradley</td>\n",
       "      <td>M</td>\n",
       "      <td>9th</td>\n",
       "      <td>Huang High School</td>\n",
       "      <td>66</td>\n",
       "      <td>79</td>\n",
       "      <td>0</td>\n",
       "      <td>District</td>\n",
       "      <td>2917</td>\n",
       "      <td>1910635</td>\n",
       "    </tr>\n",
       "    <tr>\n",
       "      <td>1</td>\n",
       "      <td>1</td>\n",
       "      <td>Victor Smith</td>\n",
       "      <td>M</td>\n",
       "      <td>12th</td>\n",
       "      <td>Huang High School</td>\n",
       "      <td>94</td>\n",
       "      <td>61</td>\n",
       "      <td>0</td>\n",
       "      <td>District</td>\n",
       "      <td>2917</td>\n",
       "      <td>1910635</td>\n",
       "    </tr>\n",
       "    <tr>\n",
       "      <td>2</td>\n",
       "      <td>2</td>\n",
       "      <td>Kevin Rodriguez</td>\n",
       "      <td>M</td>\n",
       "      <td>12th</td>\n",
       "      <td>Huang High School</td>\n",
       "      <td>90</td>\n",
       "      <td>60</td>\n",
       "      <td>0</td>\n",
       "      <td>District</td>\n",
       "      <td>2917</td>\n",
       "      <td>1910635</td>\n",
       "    </tr>\n",
       "    <tr>\n",
       "      <td>3</td>\n",
       "      <td>3</td>\n",
       "      <td>Dr. Richard Scott</td>\n",
       "      <td>M</td>\n",
       "      <td>12th</td>\n",
       "      <td>Huang High School</td>\n",
       "      <td>67</td>\n",
       "      <td>58</td>\n",
       "      <td>0</td>\n",
       "      <td>District</td>\n",
       "      <td>2917</td>\n",
       "      <td>1910635</td>\n",
       "    </tr>\n",
       "    <tr>\n",
       "      <td>4</td>\n",
       "      <td>4</td>\n",
       "      <td>Bonnie Ray</td>\n",
       "      <td>F</td>\n",
       "      <td>9th</td>\n",
       "      <td>Huang High School</td>\n",
       "      <td>97</td>\n",
       "      <td>84</td>\n",
       "      <td>0</td>\n",
       "      <td>District</td>\n",
       "      <td>2917</td>\n",
       "      <td>1910635</td>\n",
       "    </tr>\n",
       "    <tr>\n",
       "      <td>...</td>\n",
       "      <td>...</td>\n",
       "      <td>...</td>\n",
       "      <td>...</td>\n",
       "      <td>...</td>\n",
       "      <td>...</td>\n",
       "      <td>...</td>\n",
       "      <td>...</td>\n",
       "      <td>...</td>\n",
       "      <td>...</td>\n",
       "      <td>...</td>\n",
       "      <td>...</td>\n",
       "    </tr>\n",
       "    <tr>\n",
       "      <td>39165</td>\n",
       "      <td>39165</td>\n",
       "      <td>Donna Howard</td>\n",
       "      <td>F</td>\n",
       "      <td>12th</td>\n",
       "      <td>Thomas High School</td>\n",
       "      <td>99</td>\n",
       "      <td>90</td>\n",
       "      <td>14</td>\n",
       "      <td>Charter</td>\n",
       "      <td>1635</td>\n",
       "      <td>1043130</td>\n",
       "    </tr>\n",
       "    <tr>\n",
       "      <td>39166</td>\n",
       "      <td>39166</td>\n",
       "      <td>Dawn Bell</td>\n",
       "      <td>F</td>\n",
       "      <td>10th</td>\n",
       "      <td>Thomas High School</td>\n",
       "      <td>95</td>\n",
       "      <td>70</td>\n",
       "      <td>14</td>\n",
       "      <td>Charter</td>\n",
       "      <td>1635</td>\n",
       "      <td>1043130</td>\n",
       "    </tr>\n",
       "    <tr>\n",
       "      <td>39167</td>\n",
       "      <td>39167</td>\n",
       "      <td>Rebecca Tanner</td>\n",
       "      <td>F</td>\n",
       "      <td>9th</td>\n",
       "      <td>Thomas High School</td>\n",
       "      <td>73</td>\n",
       "      <td>84</td>\n",
       "      <td>14</td>\n",
       "      <td>Charter</td>\n",
       "      <td>1635</td>\n",
       "      <td>1043130</td>\n",
       "    </tr>\n",
       "    <tr>\n",
       "      <td>39168</td>\n",
       "      <td>39168</td>\n",
       "      <td>Desiree Kidd</td>\n",
       "      <td>F</td>\n",
       "      <td>10th</td>\n",
       "      <td>Thomas High School</td>\n",
       "      <td>99</td>\n",
       "      <td>90</td>\n",
       "      <td>14</td>\n",
       "      <td>Charter</td>\n",
       "      <td>1635</td>\n",
       "      <td>1043130</td>\n",
       "    </tr>\n",
       "    <tr>\n",
       "      <td>39169</td>\n",
       "      <td>39169</td>\n",
       "      <td>Carolyn Jackson</td>\n",
       "      <td>F</td>\n",
       "      <td>11th</td>\n",
       "      <td>Thomas High School</td>\n",
       "      <td>95</td>\n",
       "      <td>75</td>\n",
       "      <td>14</td>\n",
       "      <td>Charter</td>\n",
       "      <td>1635</td>\n",
       "      <td>1043130</td>\n",
       "    </tr>\n",
       "  </tbody>\n",
       "</table>\n",
       "<p>39170 rows × 11 columns</p>\n",
       "</div>"
      ],
      "text/plain": [
       "       Student ID       student_name gender grade         school_name  \\\n",
       "0               0       Paul Bradley      M   9th   Huang High School   \n",
       "1               1       Victor Smith      M  12th   Huang High School   \n",
       "2               2    Kevin Rodriguez      M  12th   Huang High School   \n",
       "3               3  Dr. Richard Scott      M  12th   Huang High School   \n",
       "4               4         Bonnie Ray      F   9th   Huang High School   \n",
       "...           ...                ...    ...   ...                 ...   \n",
       "39165       39165       Donna Howard      F  12th  Thomas High School   \n",
       "39166       39166          Dawn Bell      F  10th  Thomas High School   \n",
       "39167       39167     Rebecca Tanner      F   9th  Thomas High School   \n",
       "39168       39168       Desiree Kidd      F  10th  Thomas High School   \n",
       "39169       39169    Carolyn Jackson      F  11th  Thomas High School   \n",
       "\n",
       "       reading_score  math_score  School ID      type  size   budget  \n",
       "0                 66          79          0  District  2917  1910635  \n",
       "1                 94          61          0  District  2917  1910635  \n",
       "2                 90          60          0  District  2917  1910635  \n",
       "3                 67          58          0  District  2917  1910635  \n",
       "4                 97          84          0  District  2917  1910635  \n",
       "...              ...         ...        ...       ...   ...      ...  \n",
       "39165             99          90         14   Charter  1635  1043130  \n",
       "39166             95          70         14   Charter  1635  1043130  \n",
       "39167             73          84         14   Charter  1635  1043130  \n",
       "39168             99          90         14   Charter  1635  1043130  \n",
       "39169             95          75         14   Charter  1635  1043130  \n",
       "\n",
       "[39170 rows x 11 columns]"
      ]
     },
     "execution_count": 1,
     "metadata": {},
     "output_type": "execute_result"
    }
   ],
   "source": [
    "# Dependencies and Setup\n",
    "import pandas as pd\n",
    "import numpy as np \n",
    "\n",
    "# Files to Load\n",
    "school_data = \"Resources/schools_complete.csv\"\n",
    "student_data = \"Resources/students_complete.csv\"\n",
    "\n",
    "# Read School and Student Data File and store into Pandas Data Frames\n",
    "school_data = pd.read_csv(school_data)\n",
    "student_data = pd.read_csv(student_data)\n",
    "\n",
    "# Combine the data into a single dataset\n",
    "school_data_complete = pd.merge(student_data, school_data, how=\"left\", on=[\"school_name\", \"school_name\"])\n",
    "school_data_complete"
   ]
  },
  {
   "cell_type": "markdown",
   "metadata": {},
   "source": [
    "## District Summary\n",
    "\n",
    "* Calculate the total number of schools\n",
    "\n",
    "* Calculate the total number of students\n",
    "\n",
    "* Calculate the total budget\n",
    "\n",
    "* Calculate the average math score \n",
    "\n",
    "* Calculate the average reading score\n",
    "\n",
    "* Calculate the overall passing rate (overall average score), i.e. (avg. math score + avg. reading score)/2\n",
    "\n",
    "* Calculate the percentage of students with a passing math score (70 or greater)\n",
    "\n",
    "* Calculate the percentage of students with a passing reading score (70 or greater)\n",
    "\n",
    "* Create a dataframe to hold the above results\n",
    "\n",
    "* Optional: give the displayed data cleaner formatting"
   ]
  },
  {
   "cell_type": "code",
   "execution_count": 2,
   "metadata": {},
   "outputs": [],
   "source": [
    "#District Summary \n",
    "#Extract columns needed for data summary \n",
    "#reduced_school_data=school_data_complete.loc[:,[\"school_name\", \"student_name\", \"budget\", \"math_score\", \"reading_score\"]]\n",
    "#reduced_school_data\n"
   ]
  },
  {
   "cell_type": "code",
   "execution_count": 3,
   "metadata": {},
   "outputs": [
    {
     "data": {
      "text/plain": [
       "24649428"
      ]
     },
     "execution_count": 3,
     "metadata": {},
     "output_type": "execute_result"
    }
   ],
   "source": [
    "total_budget=school_data[\"budget\"].sum() \n",
    "total_budget"
   ]
  },
  {
   "cell_type": "code",
   "execution_count": 4,
   "metadata": {},
   "outputs": [
    {
     "data": {
      "text/plain": [
       "15"
      ]
     },
     "execution_count": 4,
     "metadata": {},
     "output_type": "execute_result"
    }
   ],
   "source": [
    "total_schools=school_data_complete[\"school_name\"].value_counts()\n",
    "schools=total_schools.count()\n",
    "schools"
   ]
  },
  {
   "cell_type": "code",
   "execution_count": 5,
   "metadata": {},
   "outputs": [
    {
     "data": {
      "text/plain": [
       "39170"
      ]
     },
     "execution_count": 5,
     "metadata": {},
     "output_type": "execute_result"
    }
   ],
   "source": [
    "total_students=school_data_complete[\"Student ID\"].value_counts()\n",
    "total_stu=len(total_students)\n",
    "total_stu"
   ]
  },
  {
   "cell_type": "code",
   "execution_count": 6,
   "metadata": {},
   "outputs": [
    {
     "data": {
      "text/plain": [
       "78.98537145774827"
      ]
     },
     "execution_count": 6,
     "metadata": {},
     "output_type": "execute_result"
    }
   ],
   "source": [
    "#Calculate average math score \n",
    "aver_math=school_data_complete[\"math_score\"].mean()\n",
    "aver_math"
   ]
  },
  {
   "cell_type": "code",
   "execution_count": 7,
   "metadata": {},
   "outputs": [
    {
     "data": {
      "text/plain": [
       "81.87784018381414"
      ]
     },
     "execution_count": 7,
     "metadata": {},
     "output_type": "execute_result"
    }
   ],
   "source": [
    "#Calculate average reading score \n",
    "aver_reading=school_data_complete[\"reading_score\"].mean()\n",
    "aver_reading"
   ]
  },
  {
   "cell_type": "code",
   "execution_count": 8,
   "metadata": {},
   "outputs": [
    {
     "data": {
      "text/plain": [
       "29370"
      ]
     },
     "execution_count": 8,
     "metadata": {},
     "output_type": "execute_result"
    }
   ],
   "source": [
    "#Calculate % of students with math grade >70\n",
    "math_pass = school_data_complete.loc[(school_data_complete[\"math_score\"] >= 70)][\"math_score\"]\n",
    "new_math = math_pass.count()\n",
    "new_math"
   ]
  },
  {
   "cell_type": "code",
   "execution_count": 9,
   "metadata": {},
   "outputs": [
    {
     "data": {
      "text/plain": [
       "74.9808526933878"
      ]
     },
     "execution_count": 9,
     "metadata": {},
     "output_type": "execute_result"
    }
   ],
   "source": [
    "math_pass_percent=new_math/total_stu*100\n",
    "math_pass_percent"
   ]
  },
  {
   "cell_type": "code",
   "execution_count": 10,
   "metadata": {},
   "outputs": [
    {
     "data": {
      "text/plain": [
       "33610"
      ]
     },
     "execution_count": 10,
     "metadata": {},
     "output_type": "execute_result"
    }
   ],
   "source": [
    "#Calculate % of students with reading grade >70\n",
    "read_pass = school_data_complete.loc[school_data_complete[\"reading_score\"] >= 70][\"reading_score\"]\n",
    "new_read = read_pass.count()\n",
    "new_read"
   ]
  },
  {
   "cell_type": "code",
   "execution_count": 11,
   "metadata": {},
   "outputs": [
    {
     "data": {
      "text/plain": [
       "85.80546336482001"
      ]
     },
     "execution_count": 11,
     "metadata": {},
     "output_type": "execute_result"
    }
   ],
   "source": [
    "reading_pass_percent=(new_read/total_stu)*100\n",
    "reading_pass_percent"
   ]
  },
  {
   "cell_type": "code",
   "execution_count": 12,
   "metadata": {},
   "outputs": [
    {
     "data": {
      "text/plain": [
       "80.43160582078121"
      ]
     },
     "execution_count": 12,
     "metadata": {},
     "output_type": "execute_result"
    }
   ],
   "source": [
    "#Calculate overall passing rate \n",
    "overall_pass=(aver_math + aver_reading)/2\n",
    "overall_pass"
   ]
  },
  {
   "cell_type": "code",
   "execution_count": 13,
   "metadata": {},
   "outputs": [
    {
     "data": {
      "text/plain": [
       "80.43160582078121"
      ]
     },
     "execution_count": 13,
     "metadata": {},
     "output_type": "execute_result"
    }
   ],
   "source": [
    "overall_pass\n"
   ]
  },
  {
   "cell_type": "code",
   "execution_count": 14,
   "metadata": {
    "scrolled": false
   },
   "outputs": [
    {
     "data": {
      "text/html": [
       "<div>\n",
       "<style scoped>\n",
       "    .dataframe tbody tr th:only-of-type {\n",
       "        vertical-align: middle;\n",
       "    }\n",
       "\n",
       "    .dataframe tbody tr th {\n",
       "        vertical-align: top;\n",
       "    }\n",
       "\n",
       "    .dataframe thead th {\n",
       "        text-align: right;\n",
       "    }\n",
       "</style>\n",
       "<table border=\"1\" class=\"dataframe\">\n",
       "  <thead>\n",
       "    <tr style=\"text-align: right;\">\n",
       "      <th></th>\n",
       "      <th>Total Schools</th>\n",
       "      <th>Total Students</th>\n",
       "      <th>Total Budget</th>\n",
       "      <th>Average Math Score</th>\n",
       "      <th>Average Reading Score</th>\n",
       "      <th>% Passing Math</th>\n",
       "      <th>% Passing Reading</th>\n",
       "      <th>% Overall Passing Rate</th>\n",
       "    </tr>\n",
       "  </thead>\n",
       "  <tbody>\n",
       "    <tr>\n",
       "      <td>0</td>\n",
       "      <td>15</td>\n",
       "      <td>39170</td>\n",
       "      <td>24649428</td>\n",
       "      <td>78.985371</td>\n",
       "      <td>81.87784</td>\n",
       "      <td>74.980853</td>\n",
       "      <td>85.805463</td>\n",
       "      <td>80.431606</td>\n",
       "    </tr>\n",
       "  </tbody>\n",
       "</table>\n",
       "</div>"
      ],
      "text/plain": [
       "   Total Schools  Total Students  Total Budget  Average Math Score  \\\n",
       "0             15           39170      24649428           78.985371   \n",
       "\n",
       "   Average Reading Score  % Passing Math  % Passing Reading  \\\n",
       "0               81.87784       74.980853          85.805463   \n",
       "\n",
       "   % Overall Passing Rate  \n",
       "0               80.431606  "
      ]
     },
     "execution_count": 14,
     "metadata": {},
     "output_type": "execute_result"
    }
   ],
   "source": [
    "summary_table = pd.DataFrame({\"Total Schools\": [schools],\n",
    "                              \"Total Students\": [total_stu],\n",
    "                              \"Total Budget\": [total_budget],\n",
    "                              \"Average Math Score\": [aver_math],\n",
    "                              \"Average Reading Score\": [aver_reading],\n",
    "                              \"% Passing Math\": [math_pass_percent],\n",
    "                              \"% Passing Reading\": [reading_pass_percent],\n",
    "                              \"% Overall Passing Rate\": [overall_pass]})\n",
    "summary_table"
   ]
  },
  {
   "cell_type": "markdown",
   "metadata": {},
   "source": [
    "## School Summary"
   ]
  },
  {
   "cell_type": "markdown",
   "metadata": {},
   "source": [
    "* Create an overview table that summarizes key metrics about each school, including:\n",
    "  * School Name\n",
    "  * School Type\n",
    "  * Total Students\n",
    "  * Total School Budget\n",
    "  * Per Student Budget\n",
    "  * Average Math Score\n",
    "  * Average Reading Score\n",
    "  * % Passing Math\n",
    "  * % Passing Reading\n",
    "  * Overall Passing Rate (Average of the above two)\n",
    "  \n",
    "* Create a dataframe to hold the above results"
   ]
  },
  {
   "cell_type": "code",
   "execution_count": 15,
   "metadata": {},
   "outputs": [
    {
     "data": {
      "text/html": [
       "<div>\n",
       "<style scoped>\n",
       "    .dataframe tbody tr th:only-of-type {\n",
       "        vertical-align: middle;\n",
       "    }\n",
       "\n",
       "    .dataframe tbody tr th {\n",
       "        vertical-align: top;\n",
       "    }\n",
       "\n",
       "    .dataframe thead th {\n",
       "        text-align: right;\n",
       "    }\n",
       "</style>\n",
       "<table border=\"1\" class=\"dataframe\">\n",
       "  <thead>\n",
       "    <tr style=\"text-align: right;\">\n",
       "      <th></th>\n",
       "      <th>School Name</th>\n",
       "      <th>School Type</th>\n",
       "      <th>Total Students</th>\n",
       "      <th>Total Budget</th>\n",
       "      <th>Average Math Score</th>\n",
       "      <th>Average Reading Score</th>\n",
       "    </tr>\n",
       "  </thead>\n",
       "  <tbody>\n",
       "    <tr>\n",
       "      <td>0</td>\n",
       "      <td>Huang High School</td>\n",
       "      <td>District</td>\n",
       "      <td>2917</td>\n",
       "      <td>1910635</td>\n",
       "      <td>79</td>\n",
       "      <td>66</td>\n",
       "    </tr>\n",
       "    <tr>\n",
       "      <td>1</td>\n",
       "      <td>Huang High School</td>\n",
       "      <td>District</td>\n",
       "      <td>2917</td>\n",
       "      <td>1910635</td>\n",
       "      <td>61</td>\n",
       "      <td>94</td>\n",
       "    </tr>\n",
       "    <tr>\n",
       "      <td>2</td>\n",
       "      <td>Huang High School</td>\n",
       "      <td>District</td>\n",
       "      <td>2917</td>\n",
       "      <td>1910635</td>\n",
       "      <td>60</td>\n",
       "      <td>90</td>\n",
       "    </tr>\n",
       "    <tr>\n",
       "      <td>3</td>\n",
       "      <td>Huang High School</td>\n",
       "      <td>District</td>\n",
       "      <td>2917</td>\n",
       "      <td>1910635</td>\n",
       "      <td>58</td>\n",
       "      <td>67</td>\n",
       "    </tr>\n",
       "    <tr>\n",
       "      <td>4</td>\n",
       "      <td>Huang High School</td>\n",
       "      <td>District</td>\n",
       "      <td>2917</td>\n",
       "      <td>1910635</td>\n",
       "      <td>84</td>\n",
       "      <td>97</td>\n",
       "    </tr>\n",
       "  </tbody>\n",
       "</table>\n",
       "</div>"
      ],
      "text/plain": [
       "         School Name School Type  Total Students  Total Budget  \\\n",
       "0  Huang High School    District            2917       1910635   \n",
       "1  Huang High School    District            2917       1910635   \n",
       "2  Huang High School    District            2917       1910635   \n",
       "3  Huang High School    District            2917       1910635   \n",
       "4  Huang High School    District            2917       1910635   \n",
       "\n",
       "   Average Math Score  Average Reading Score  \n",
       "0                  79                     66  \n",
       "1                  61                     94  \n",
       "2                  60                     90  \n",
       "3                  58                     67  \n",
       "4                  84                     97  "
      ]
     },
     "execution_count": 15,
     "metadata": {},
     "output_type": "execute_result"
    }
   ],
   "source": [
    "#Extract the columns for the school summary \n",
    "school_sum=school_data_complete[[\"school_name\", \"type\", \"size\",\n",
    "                           \"budget\", \"math_score\", \"reading_score\"]]\n",
    "school_sum=school_sum.rename(\n",
    "    columns={\"school_name\": \"School Name\",\"type\":\"School Type\",\"size\":\"Total Students\",\"budget\":\"Total Budget\",\"math_score\":\"Average Math Score\",\"reading_score\":\"Average Reading Score\"})\n",
    "school_sum.head()"
   ]
  },
  {
   "cell_type": "code",
   "execution_count": 16,
   "metadata": {},
   "outputs": [
    {
     "data": {
      "text/plain": [
       "0        655.0\n",
       "1        655.0\n",
       "2        655.0\n",
       "3        655.0\n",
       "4        655.0\n",
       "         ...  \n",
       "39165    638.0\n",
       "39166    638.0\n",
       "39167    638.0\n",
       "39168    638.0\n",
       "39169    638.0\n",
       "Length: 39170, dtype: float64"
      ]
     },
     "execution_count": 16,
     "metadata": {},
     "output_type": "execute_result"
    }
   ],
   "source": [
    "#Calculate necessary variables\n",
    "#budget per student\n",
    "budget_student=school_sum['Total Budget']/school_sum['Total Students']\n",
    "budget_student"
   ]
  },
  {
   "cell_type": "code",
   "execution_count": 48,
   "metadata": {},
   "outputs": [
    {
     "data": {
      "text/plain": [
       "0        2917\n",
       "1        2917\n",
       "2        2917\n",
       "3        2917\n",
       "4        2917\n",
       "         ... \n",
       "39165    1635\n",
       "39166    1635\n",
       "39167    1635\n",
       "39168    1635\n",
       "39169    1635\n",
       "Name: Total Students, Length: 39170, dtype: int64"
      ]
     },
     "execution_count": 48,
     "metadata": {},
     "output_type": "execute_result"
    }
   ],
   "source": [
    "#Number of students as a variable\n",
    "students=school_sum['Total Students']\n",
    "students"
   ]
  },
  {
   "cell_type": "code",
   "execution_count": 49,
   "metadata": {},
   "outputs": [
    {
     "data": {
      "text/plain": [
       "29370"
      ]
     },
     "execution_count": 49,
     "metadata": {},
     "output_type": "execute_result"
    }
   ],
   "source": [
    "twpercent_math=school_sum.loc[(school_sum[\"Average Math Score\"] >= 70)][\"Total Students\"]\n",
    "mathg=twpercent_math.count()\n",
    "mathg"
   ]
  },
  {
   "cell_type": "code",
   "execution_count": 50,
   "metadata": {},
   "outputs": [],
   "source": [
    "school_math = (mathg*100)/students "
   ]
  },
  {
   "cell_type": "code",
   "execution_count": 51,
   "metadata": {},
   "outputs": [
    {
     "data": {
      "text/plain": [
       "2480921"
      ]
     },
     "execution_count": 51,
     "metadata": {},
     "output_type": "execute_result"
    }
   ],
   "source": [
    "#Calculate necessary variables\n",
    "#% Passing Math \n",
    "percent_math=school_sum.loc[(school_sum[\"Average Math Score\"] >= 70)][\"Average Math Score\"]\n",
    "school_math = percent_math.sum()\n",
    "school_math"
   ]
  },
  {
   "cell_type": "code",
   "execution_count": 52,
   "metadata": {},
   "outputs": [
    {
     "data": {
      "text/plain": [
       "0        2.708262\n",
       "4        2.879671\n",
       "5        3.222489\n",
       "6        2.742544\n",
       "8        2.982516\n",
       "           ...   \n",
       "39165    5.504587\n",
       "39166    4.281346\n",
       "39167    5.137615\n",
       "39168    5.504587\n",
       "39169    4.587156\n",
       "Length: 29370, dtype: float64"
      ]
     },
     "execution_count": 52,
     "metadata": {},
     "output_type": "execute_result"
    }
   ],
   "source": [
    "#%Passing math continued \n",
    "#school_math_percent=(school_math/(school_sum['Total Students']))\n",
    "twschool_math_percent=percent_math/twpercent_math\n",
    "school_math_percent=twschool_math_percent*100\n",
    "#school_math_percent=school_math_percent.dropna(how=any)\n",
    "school_math_percent"
   ]
  },
  {
   "cell_type": "code",
   "execution_count": 53,
   "metadata": {},
   "outputs": [
    {
     "data": {
      "text/plain": [
       "1        94\n",
       "2        90\n",
       "4        97\n",
       "5        94\n",
       "6        82\n",
       "         ..\n",
       "39165    99\n",
       "39166    95\n",
       "39167    73\n",
       "39168    99\n",
       "39169    95\n",
       "Name: Average Reading Score, Length: 33610, dtype: int64"
      ]
     },
     "execution_count": 53,
     "metadata": {},
     "output_type": "execute_result"
    }
   ],
   "source": [
    "#% Passing Reading \n",
    "percent_reading=school_sum.loc[(school_sum[\"Average Reading Score\"] >= 70)][\"Average Reading Score\"]\n",
    "#school_reading = percent_reading.sum()\n",
    "#school_reading\n",
    "percent_reading"
   ]
  },
  {
   "cell_type": "code",
   "execution_count": 54,
   "metadata": {},
   "outputs": [
    {
     "data": {
      "text/plain": [
       "1        2917\n",
       "2        2917\n",
       "4        2917\n",
       "5        2917\n",
       "6        2917\n",
       "         ... \n",
       "39165    1635\n",
       "39166    1635\n",
       "39167    1635\n",
       "39168    1635\n",
       "39169    1635\n",
       "Name: Total Students, Length: 33610, dtype: int64"
      ]
     },
     "execution_count": 54,
     "metadata": {},
     "output_type": "execute_result"
    }
   ],
   "source": [
    "twpercent_reading=school_sum.loc[(school_sum[\"Average Reading Score\"] >= 70)][\"Total Students\"]\n",
    "twpercent_reading"
   ]
  },
  {
   "cell_type": "code",
   "execution_count": 55,
   "metadata": {},
   "outputs": [
    {
     "data": {
      "text/plain": [
       "1        3.222489\n",
       "2        3.085362\n",
       "4        3.325334\n",
       "5        3.222489\n",
       "6        2.811107\n",
       "           ...   \n",
       "39165    6.055046\n",
       "39166    5.810398\n",
       "39167    4.464832\n",
       "39168    6.055046\n",
       "39169    5.810398\n",
       "Length: 33610, dtype: float64"
      ]
     },
     "execution_count": 55,
     "metadata": {},
     "output_type": "execute_result"
    }
   ],
   "source": [
    "#%Passing reading continued \n",
    "#school_reading_percent=(percent_reading)/(school_sum['Total Students'])*100\n",
    "twschool_reading_percent=percent_reading/twpercent_reading\n",
    "school_reading_percent=twschool_reading_percent*100\n",
    "school_reading_percent"
   ]
  },
  {
   "cell_type": "code",
   "execution_count": 56,
   "metadata": {},
   "outputs": [
    {
     "data": {
      "text/plain": [
       "0             NaN\n",
       "1             NaN\n",
       "2             NaN\n",
       "4        3.102503\n",
       "5        3.222489\n",
       "           ...   \n",
       "39165    5.779817\n",
       "39166    5.045872\n",
       "39167    4.801223\n",
       "39168    5.779817\n",
       "39169    5.198777\n",
       "Length: 37452, dtype: float64"
      ]
     },
     "execution_count": 56,
     "metadata": {},
     "output_type": "execute_result"
    }
   ],
   "source": [
    "#Calculate overall passing rate \n",
    "overall_school=(school_math_percent)+(school_reading_percent)\n",
    "overall_school_f=overall_school/2\n",
    "overall_school_f"
   ]
  },
  {
   "cell_type": "code",
   "execution_count": 57,
   "metadata": {},
   "outputs": [
    {
     "data": {
      "text/html": [
       "<div>\n",
       "<style scoped>\n",
       "    .dataframe tbody tr th:only-of-type {\n",
       "        vertical-align: middle;\n",
       "    }\n",
       "\n",
       "    .dataframe tbody tr th {\n",
       "        vertical-align: top;\n",
       "    }\n",
       "\n",
       "    .dataframe thead th {\n",
       "        text-align: right;\n",
       "    }\n",
       "</style>\n",
       "<table border=\"1\" class=\"dataframe\">\n",
       "  <thead>\n",
       "    <tr style=\"text-align: right;\">\n",
       "      <th></th>\n",
       "      <th>School Name</th>\n",
       "      <th>School Type</th>\n",
       "      <th>Total Students</th>\n",
       "      <th>Total Budget</th>\n",
       "      <th>Average Math Score</th>\n",
       "      <th>Average Reading Score</th>\n",
       "      <th>Budget per Student</th>\n",
       "      <th>%Passing Math</th>\n",
       "      <th>%Passing Reading</th>\n",
       "      <th>Overall %Passing</th>\n",
       "    </tr>\n",
       "  </thead>\n",
       "  <tbody>\n",
       "    <tr>\n",
       "      <td>0</td>\n",
       "      <td>Huang High School</td>\n",
       "      <td>District</td>\n",
       "      <td>2917</td>\n",
       "      <td>1910635</td>\n",
       "      <td>79</td>\n",
       "      <td>66</td>\n",
       "      <td>655.0</td>\n",
       "      <td>2480921</td>\n",
       "      <td>NaN</td>\n",
       "      <td>NaN</td>\n",
       "    </tr>\n",
       "    <tr>\n",
       "      <td>1</td>\n",
       "      <td>Huang High School</td>\n",
       "      <td>District</td>\n",
       "      <td>2917</td>\n",
       "      <td>1910635</td>\n",
       "      <td>61</td>\n",
       "      <td>94</td>\n",
       "      <td>655.0</td>\n",
       "      <td>2480921</td>\n",
       "      <td>3.222489</td>\n",
       "      <td>NaN</td>\n",
       "    </tr>\n",
       "    <tr>\n",
       "      <td>2</td>\n",
       "      <td>Huang High School</td>\n",
       "      <td>District</td>\n",
       "      <td>2917</td>\n",
       "      <td>1910635</td>\n",
       "      <td>60</td>\n",
       "      <td>90</td>\n",
       "      <td>655.0</td>\n",
       "      <td>2480921</td>\n",
       "      <td>3.085362</td>\n",
       "      <td>NaN</td>\n",
       "    </tr>\n",
       "    <tr>\n",
       "      <td>3</td>\n",
       "      <td>Huang High School</td>\n",
       "      <td>District</td>\n",
       "      <td>2917</td>\n",
       "      <td>1910635</td>\n",
       "      <td>58</td>\n",
       "      <td>67</td>\n",
       "      <td>655.0</td>\n",
       "      <td>2480921</td>\n",
       "      <td>NaN</td>\n",
       "      <td>NaN</td>\n",
       "    </tr>\n",
       "    <tr>\n",
       "      <td>4</td>\n",
       "      <td>Huang High School</td>\n",
       "      <td>District</td>\n",
       "      <td>2917</td>\n",
       "      <td>1910635</td>\n",
       "      <td>84</td>\n",
       "      <td>97</td>\n",
       "      <td>655.0</td>\n",
       "      <td>2480921</td>\n",
       "      <td>3.325334</td>\n",
       "      <td>3.102503</td>\n",
       "    </tr>\n",
       "    <tr>\n",
       "      <td>...</td>\n",
       "      <td>...</td>\n",
       "      <td>...</td>\n",
       "      <td>...</td>\n",
       "      <td>...</td>\n",
       "      <td>...</td>\n",
       "      <td>...</td>\n",
       "      <td>...</td>\n",
       "      <td>...</td>\n",
       "      <td>...</td>\n",
       "      <td>...</td>\n",
       "    </tr>\n",
       "    <tr>\n",
       "      <td>39165</td>\n",
       "      <td>Thomas High School</td>\n",
       "      <td>Charter</td>\n",
       "      <td>1635</td>\n",
       "      <td>1043130</td>\n",
       "      <td>90</td>\n",
       "      <td>99</td>\n",
       "      <td>638.0</td>\n",
       "      <td>2480921</td>\n",
       "      <td>6.055046</td>\n",
       "      <td>5.779817</td>\n",
       "    </tr>\n",
       "    <tr>\n",
       "      <td>39166</td>\n",
       "      <td>Thomas High School</td>\n",
       "      <td>Charter</td>\n",
       "      <td>1635</td>\n",
       "      <td>1043130</td>\n",
       "      <td>70</td>\n",
       "      <td>95</td>\n",
       "      <td>638.0</td>\n",
       "      <td>2480921</td>\n",
       "      <td>5.810398</td>\n",
       "      <td>5.045872</td>\n",
       "    </tr>\n",
       "    <tr>\n",
       "      <td>39167</td>\n",
       "      <td>Thomas High School</td>\n",
       "      <td>Charter</td>\n",
       "      <td>1635</td>\n",
       "      <td>1043130</td>\n",
       "      <td>84</td>\n",
       "      <td>73</td>\n",
       "      <td>638.0</td>\n",
       "      <td>2480921</td>\n",
       "      <td>4.464832</td>\n",
       "      <td>4.801223</td>\n",
       "    </tr>\n",
       "    <tr>\n",
       "      <td>39168</td>\n",
       "      <td>Thomas High School</td>\n",
       "      <td>Charter</td>\n",
       "      <td>1635</td>\n",
       "      <td>1043130</td>\n",
       "      <td>90</td>\n",
       "      <td>99</td>\n",
       "      <td>638.0</td>\n",
       "      <td>2480921</td>\n",
       "      <td>6.055046</td>\n",
       "      <td>5.779817</td>\n",
       "    </tr>\n",
       "    <tr>\n",
       "      <td>39169</td>\n",
       "      <td>Thomas High School</td>\n",
       "      <td>Charter</td>\n",
       "      <td>1635</td>\n",
       "      <td>1043130</td>\n",
       "      <td>75</td>\n",
       "      <td>95</td>\n",
       "      <td>638.0</td>\n",
       "      <td>2480921</td>\n",
       "      <td>5.810398</td>\n",
       "      <td>5.198777</td>\n",
       "    </tr>\n",
       "  </tbody>\n",
       "</table>\n",
       "<p>39170 rows × 10 columns</p>\n",
       "</div>"
      ],
      "text/plain": [
       "              School Name School Type  Total Students  Total Budget  \\\n",
       "0       Huang High School    District            2917       1910635   \n",
       "1       Huang High School    District            2917       1910635   \n",
       "2       Huang High School    District            2917       1910635   \n",
       "3       Huang High School    District            2917       1910635   \n",
       "4       Huang High School    District            2917       1910635   \n",
       "...                   ...         ...             ...           ...   \n",
       "39165  Thomas High School     Charter            1635       1043130   \n",
       "39166  Thomas High School     Charter            1635       1043130   \n",
       "39167  Thomas High School     Charter            1635       1043130   \n",
       "39168  Thomas High School     Charter            1635       1043130   \n",
       "39169  Thomas High School     Charter            1635       1043130   \n",
       "\n",
       "       Average Math Score  Average Reading Score  Budget per Student  \\\n",
       "0                      79                     66               655.0   \n",
       "1                      61                     94               655.0   \n",
       "2                      60                     90               655.0   \n",
       "3                      58                     67               655.0   \n",
       "4                      84                     97               655.0   \n",
       "...                   ...                    ...                 ...   \n",
       "39165                  90                     99               638.0   \n",
       "39166                  70                     95               638.0   \n",
       "39167                  84                     73               638.0   \n",
       "39168                  90                     99               638.0   \n",
       "39169                  75                     95               638.0   \n",
       "\n",
       "       %Passing Math  %Passing Reading  Overall %Passing  \n",
       "0            2480921               NaN               NaN  \n",
       "1            2480921          3.222489               NaN  \n",
       "2            2480921          3.085362               NaN  \n",
       "3            2480921               NaN               NaN  \n",
       "4            2480921          3.325334          3.102503  \n",
       "...              ...               ...               ...  \n",
       "39165        2480921          6.055046          5.779817  \n",
       "39166        2480921          5.810398          5.045872  \n",
       "39167        2480921          4.464832          4.801223  \n",
       "39168        2480921          6.055046          5.779817  \n",
       "39169        2480921          5.810398          5.198777  \n",
       "\n",
       "[39170 rows x 10 columns]"
      ]
     },
     "execution_count": 57,
     "metadata": {},
     "output_type": "execute_result"
    }
   ],
   "source": [
    "#Add new variables to dataframe\n",
    "school_sum[\"Budget per Student\"]=budget_student\n",
    "school_sum[\"%Passing Math\"]=school_math\n",
    "school_sum[\"%Passing Reading\"]=school_reading_percent \n",
    "school_sum[\"Overall %Passing\"]=overall_school_f\n",
    "school_sum"
   ]
  },
  {
   "cell_type": "code",
   "execution_count": 58,
   "metadata": {},
   "outputs": [
    {
     "data": {
      "text/html": [
       "<div>\n",
       "<style scoped>\n",
       "    .dataframe tbody tr th:only-of-type {\n",
       "        vertical-align: middle;\n",
       "    }\n",
       "\n",
       "    .dataframe tbody tr th {\n",
       "        vertical-align: top;\n",
       "    }\n",
       "\n",
       "    .dataframe thead th {\n",
       "        text-align: right;\n",
       "    }\n",
       "</style>\n",
       "<table border=\"1\" class=\"dataframe\">\n",
       "  <thead>\n",
       "    <tr style=\"text-align: right;\">\n",
       "      <th></th>\n",
       "      <th>School Type</th>\n",
       "      <th>Total Students</th>\n",
       "      <th>Total Budget</th>\n",
       "      <th>Budget per Student</th>\n",
       "      <th>Average Math Score</th>\n",
       "      <th>Average Reading Score</th>\n",
       "      <th>%Passing Math</th>\n",
       "      <th>%Passing Reading</th>\n",
       "      <th>Overall %Passing</th>\n",
       "    </tr>\n",
       "    <tr>\n",
       "      <th>School Name</th>\n",
       "      <th></th>\n",
       "      <th></th>\n",
       "      <th></th>\n",
       "      <th></th>\n",
       "      <th></th>\n",
       "      <th></th>\n",
       "      <th></th>\n",
       "      <th></th>\n",
       "      <th></th>\n",
       "    </tr>\n",
       "  </thead>\n",
       "  <tbody>\n",
       "    <tr>\n",
       "      <td>Bailey High School</td>\n",
       "      <td>District</td>\n",
       "      <td>4976</td>\n",
       "      <td>3124928</td>\n",
       "      <td>628.0</td>\n",
       "      <td>59</td>\n",
       "      <td>75</td>\n",
       "      <td>2480921</td>\n",
       "      <td>1.507235</td>\n",
       "      <td>1.657958</td>\n",
       "    </tr>\n",
       "    <tr>\n",
       "      <td>Cabrera High School</td>\n",
       "      <td>Charter</td>\n",
       "      <td>1858</td>\n",
       "      <td>1081356</td>\n",
       "      <td>582.0</td>\n",
       "      <td>94</td>\n",
       "      <td>94</td>\n",
       "      <td>2480921</td>\n",
       "      <td>5.059203</td>\n",
       "      <td>5.059203</td>\n",
       "    </tr>\n",
       "    <tr>\n",
       "      <td>Figueroa High School</td>\n",
       "      <td>District</td>\n",
       "      <td>2949</td>\n",
       "      <td>1884411</td>\n",
       "      <td>639.0</td>\n",
       "      <td>87</td>\n",
       "      <td>85</td>\n",
       "      <td>2480921</td>\n",
       "      <td>2.882333</td>\n",
       "      <td>2.916243</td>\n",
       "    </tr>\n",
       "    <tr>\n",
       "      <td>Ford High School</td>\n",
       "      <td>District</td>\n",
       "      <td>2739</td>\n",
       "      <td>1763916</td>\n",
       "      <td>644.0</td>\n",
       "      <td>94</td>\n",
       "      <td>66</td>\n",
       "      <td>2480921</td>\n",
       "      <td>2.665206</td>\n",
       "      <td>2.701716</td>\n",
       "    </tr>\n",
       "    <tr>\n",
       "      <td>Griffin High School</td>\n",
       "      <td>Charter</td>\n",
       "      <td>1468</td>\n",
       "      <td>917500</td>\n",
       "      <td>625.0</td>\n",
       "      <td>68</td>\n",
       "      <td>79</td>\n",
       "      <td>2480921</td>\n",
       "      <td>5.381471</td>\n",
       "      <td>5.858311</td>\n",
       "    </tr>\n",
       "    <tr>\n",
       "      <td>Hernandez High School</td>\n",
       "      <td>District</td>\n",
       "      <td>4635</td>\n",
       "      <td>3022020</td>\n",
       "      <td>652.0</td>\n",
       "      <td>88</td>\n",
       "      <td>70</td>\n",
       "      <td>2480921</td>\n",
       "      <td>1.510248</td>\n",
       "      <td>1.704423</td>\n",
       "    </tr>\n",
       "    <tr>\n",
       "      <td>Holden High School</td>\n",
       "      <td>Charter</td>\n",
       "      <td>427</td>\n",
       "      <td>248087</td>\n",
       "      <td>581.0</td>\n",
       "      <td>92</td>\n",
       "      <td>86</td>\n",
       "      <td>2480921</td>\n",
       "      <td>20.140515</td>\n",
       "      <td>20.843091</td>\n",
       "    </tr>\n",
       "    <tr>\n",
       "      <td>Huang High School</td>\n",
       "      <td>District</td>\n",
       "      <td>2917</td>\n",
       "      <td>1910635</td>\n",
       "      <td>655.0</td>\n",
       "      <td>79</td>\n",
       "      <td>66</td>\n",
       "      <td>2480921</td>\n",
       "      <td>3.222489</td>\n",
       "      <td>3.102503</td>\n",
       "    </tr>\n",
       "    <tr>\n",
       "      <td>Johnson High School</td>\n",
       "      <td>District</td>\n",
       "      <td>4761</td>\n",
       "      <td>3094650</td>\n",
       "      <td>650.0</td>\n",
       "      <td>87</td>\n",
       "      <td>87</td>\n",
       "      <td>2480921</td>\n",
       "      <td>1.827347</td>\n",
       "      <td>1.827347</td>\n",
       "    </tr>\n",
       "    <tr>\n",
       "      <td>Pena High School</td>\n",
       "      <td>Charter</td>\n",
       "      <td>962</td>\n",
       "      <td>585858</td>\n",
       "      <td>609.0</td>\n",
       "      <td>75</td>\n",
       "      <td>91</td>\n",
       "      <td>2480921</td>\n",
       "      <td>9.459459</td>\n",
       "      <td>8.627859</td>\n",
       "    </tr>\n",
       "    <tr>\n",
       "      <td>Rodriguez High School</td>\n",
       "      <td>District</td>\n",
       "      <td>3999</td>\n",
       "      <td>2547363</td>\n",
       "      <td>637.0</td>\n",
       "      <td>81</td>\n",
       "      <td>74</td>\n",
       "      <td>2480921</td>\n",
       "      <td>1.850463</td>\n",
       "      <td>1.937984</td>\n",
       "    </tr>\n",
       "    <tr>\n",
       "      <td>Shelton High School</td>\n",
       "      <td>Charter</td>\n",
       "      <td>1761</td>\n",
       "      <td>1056600</td>\n",
       "      <td>600.0</td>\n",
       "      <td>91</td>\n",
       "      <td>70</td>\n",
       "      <td>2480921</td>\n",
       "      <td>3.975014</td>\n",
       "      <td>4.571266</td>\n",
       "    </tr>\n",
       "    <tr>\n",
       "      <td>Thomas High School</td>\n",
       "      <td>Charter</td>\n",
       "      <td>1635</td>\n",
       "      <td>1043130</td>\n",
       "      <td>638.0</td>\n",
       "      <td>76</td>\n",
       "      <td>76</td>\n",
       "      <td>2480921</td>\n",
       "      <td>4.648318</td>\n",
       "      <td>4.648318</td>\n",
       "    </tr>\n",
       "    <tr>\n",
       "      <td>Wilson High School</td>\n",
       "      <td>Charter</td>\n",
       "      <td>2283</td>\n",
       "      <td>1319574</td>\n",
       "      <td>578.0</td>\n",
       "      <td>71</td>\n",
       "      <td>84</td>\n",
       "      <td>2480921</td>\n",
       "      <td>3.679369</td>\n",
       "      <td>3.394656</td>\n",
       "    </tr>\n",
       "    <tr>\n",
       "      <td>Wright High School</td>\n",
       "      <td>Charter</td>\n",
       "      <td>1800</td>\n",
       "      <td>1049400</td>\n",
       "      <td>583.0</td>\n",
       "      <td>72</td>\n",
       "      <td>89</td>\n",
       "      <td>2480921</td>\n",
       "      <td>4.944444</td>\n",
       "      <td>4.472222</td>\n",
       "    </tr>\n",
       "  </tbody>\n",
       "</table>\n",
       "</div>"
      ],
      "text/plain": [
       "                      School Type  Total Students  Total Budget  \\\n",
       "School Name                                                       \n",
       "Bailey High School       District            4976       3124928   \n",
       "Cabrera High School       Charter            1858       1081356   \n",
       "Figueroa High School     District            2949       1884411   \n",
       "Ford High School         District            2739       1763916   \n",
       "Griffin High School       Charter            1468        917500   \n",
       "Hernandez High School    District            4635       3022020   \n",
       "Holden High School        Charter             427        248087   \n",
       "Huang High School        District            2917       1910635   \n",
       "Johnson High School      District            4761       3094650   \n",
       "Pena High School          Charter             962        585858   \n",
       "Rodriguez High School    District            3999       2547363   \n",
       "Shelton High School       Charter            1761       1056600   \n",
       "Thomas High School        Charter            1635       1043130   \n",
       "Wilson High School        Charter            2283       1319574   \n",
       "Wright High School        Charter            1800       1049400   \n",
       "\n",
       "                       Budget per Student  Average Math Score  \\\n",
       "School Name                                                     \n",
       "Bailey High School                  628.0                  59   \n",
       "Cabrera High School                 582.0                  94   \n",
       "Figueroa High School                639.0                  87   \n",
       "Ford High School                    644.0                  94   \n",
       "Griffin High School                 625.0                  68   \n",
       "Hernandez High School               652.0                  88   \n",
       "Holden High School                  581.0                  92   \n",
       "Huang High School                   655.0                  79   \n",
       "Johnson High School                 650.0                  87   \n",
       "Pena High School                    609.0                  75   \n",
       "Rodriguez High School               637.0                  81   \n",
       "Shelton High School                 600.0                  91   \n",
       "Thomas High School                  638.0                  76   \n",
       "Wilson High School                  578.0                  71   \n",
       "Wright High School                  583.0                  72   \n",
       "\n",
       "                       Average Reading Score  %Passing Math  %Passing Reading  \\\n",
       "School Name                                                                     \n",
       "Bailey High School                        75        2480921          1.507235   \n",
       "Cabrera High School                       94        2480921          5.059203   \n",
       "Figueroa High School                      85        2480921          2.882333   \n",
       "Ford High School                          66        2480921          2.665206   \n",
       "Griffin High School                       79        2480921          5.381471   \n",
       "Hernandez High School                     70        2480921          1.510248   \n",
       "Holden High School                        86        2480921         20.140515   \n",
       "Huang High School                         66        2480921          3.222489   \n",
       "Johnson High School                       87        2480921          1.827347   \n",
       "Pena High School                          91        2480921          9.459459   \n",
       "Rodriguez High School                     74        2480921          1.850463   \n",
       "Shelton High School                       70        2480921          3.975014   \n",
       "Thomas High School                        76        2480921          4.648318   \n",
       "Wilson High School                        84        2480921          3.679369   \n",
       "Wright High School                        89        2480921          4.944444   \n",
       "\n",
       "                       Overall %Passing  \n",
       "School Name                              \n",
       "Bailey High School             1.657958  \n",
       "Cabrera High School            5.059203  \n",
       "Figueroa High School           2.916243  \n",
       "Ford High School               2.701716  \n",
       "Griffin High School            5.858311  \n",
       "Hernandez High School          1.704423  \n",
       "Holden High School            20.843091  \n",
       "Huang High School              3.102503  \n",
       "Johnson High School            1.827347  \n",
       "Pena High School               8.627859  \n",
       "Rodriguez High School          1.937984  \n",
       "Shelton High School            4.571266  \n",
       "Thomas High School             4.648318  \n",
       "Wilson High School             3.394656  \n",
       "Wright High School             4.472222  "
      ]
     },
     "execution_count": 58,
     "metadata": {},
     "output_type": "execute_result"
    }
   ],
   "source": [
    "grouped_school_df = school_sum.groupby(['School Name'])\n",
    "grouped_school_df = school_sum.groupby(['School Name']).first()\n",
    "grouped_school_df_order=grouped_school_df[['School Type','Total Students','Total Budget','Budget per Student','Average Math Score','Average Reading Score','%Passing Math','%Passing Reading','Overall %Passing']]\n",
    "grouped_school_df_order\n"
   ]
  },
  {
   "cell_type": "markdown",
   "metadata": {},
   "source": [
    "## Top Performing Schools (By Passing Rate)"
   ]
  },
  {
   "cell_type": "markdown",
   "metadata": {},
   "source": [
    "* Sort and display the top five schools in overall passing rate"
   ]
  },
  {
   "cell_type": "code",
   "execution_count": 27,
   "metadata": {},
   "outputs": [
    {
     "data": {
      "text/html": [
       "<div>\n",
       "<style scoped>\n",
       "    .dataframe tbody tr th:only-of-type {\n",
       "        vertical-align: middle;\n",
       "    }\n",
       "\n",
       "    .dataframe tbody tr th {\n",
       "        vertical-align: top;\n",
       "    }\n",
       "\n",
       "    .dataframe thead th {\n",
       "        text-align: right;\n",
       "    }\n",
       "</style>\n",
       "<table border=\"1\" class=\"dataframe\">\n",
       "  <thead>\n",
       "    <tr style=\"text-align: right;\">\n",
       "      <th></th>\n",
       "      <th>School Type</th>\n",
       "      <th>Total Students</th>\n",
       "      <th>Total Budget</th>\n",
       "      <th>Budget per Student</th>\n",
       "      <th>Average Math Score</th>\n",
       "      <th>Average Reading Score</th>\n",
       "      <th>%Passing Math</th>\n",
       "      <th>%Passing Reading</th>\n",
       "      <th>Overall %Passing</th>\n",
       "    </tr>\n",
       "    <tr>\n",
       "      <th>School Name</th>\n",
       "      <th></th>\n",
       "      <th></th>\n",
       "      <th></th>\n",
       "      <th></th>\n",
       "      <th></th>\n",
       "      <th></th>\n",
       "      <th></th>\n",
       "      <th></th>\n",
       "      <th></th>\n",
       "    </tr>\n",
       "  </thead>\n",
       "  <tbody>\n",
       "    <tr>\n",
       "      <td>Holden High School</td>\n",
       "      <td>Charter</td>\n",
       "      <td>427</td>\n",
       "      <td>248087</td>\n",
       "      <td>581.0</td>\n",
       "      <td>92</td>\n",
       "      <td>86</td>\n",
       "      <td>21.545667</td>\n",
       "      <td>20.140515</td>\n",
       "      <td>20.843091</td>\n",
       "    </tr>\n",
       "    <tr>\n",
       "      <td>Pena High School</td>\n",
       "      <td>Charter</td>\n",
       "      <td>962</td>\n",
       "      <td>585858</td>\n",
       "      <td>609.0</td>\n",
       "      <td>75</td>\n",
       "      <td>91</td>\n",
       "      <td>7.796258</td>\n",
       "      <td>9.459459</td>\n",
       "      <td>8.627859</td>\n",
       "    </tr>\n",
       "    <tr>\n",
       "      <td>Griffin High School</td>\n",
       "      <td>Charter</td>\n",
       "      <td>1468</td>\n",
       "      <td>917500</td>\n",
       "      <td>625.0</td>\n",
       "      <td>68</td>\n",
       "      <td>79</td>\n",
       "      <td>5.517711</td>\n",
       "      <td>5.381471</td>\n",
       "      <td>5.858311</td>\n",
       "    </tr>\n",
       "    <tr>\n",
       "      <td>Cabrera High School</td>\n",
       "      <td>Charter</td>\n",
       "      <td>1858</td>\n",
       "      <td>1081356</td>\n",
       "      <td>582.0</td>\n",
       "      <td>94</td>\n",
       "      <td>94</td>\n",
       "      <td>5.059203</td>\n",
       "      <td>5.059203</td>\n",
       "      <td>5.059203</td>\n",
       "    </tr>\n",
       "    <tr>\n",
       "      <td>Thomas High School</td>\n",
       "      <td>Charter</td>\n",
       "      <td>1635</td>\n",
       "      <td>1043130</td>\n",
       "      <td>638.0</td>\n",
       "      <td>76</td>\n",
       "      <td>76</td>\n",
       "      <td>4.648318</td>\n",
       "      <td>4.648318</td>\n",
       "      <td>4.648318</td>\n",
       "    </tr>\n",
       "  </tbody>\n",
       "</table>\n",
       "</div>"
      ],
      "text/plain": [
       "                    School Type  Total Students  Total Budget  \\\n",
       "School Name                                                     \n",
       "Holden High School      Charter             427        248087   \n",
       "Pena High School        Charter             962        585858   \n",
       "Griffin High School     Charter            1468        917500   \n",
       "Cabrera High School     Charter            1858       1081356   \n",
       "Thomas High School      Charter            1635       1043130   \n",
       "\n",
       "                     Budget per Student  Average Math Score  \\\n",
       "School Name                                                   \n",
       "Holden High School                581.0                  92   \n",
       "Pena High School                  609.0                  75   \n",
       "Griffin High School               625.0                  68   \n",
       "Cabrera High School               582.0                  94   \n",
       "Thomas High School                638.0                  76   \n",
       "\n",
       "                     Average Reading Score  %Passing Math  %Passing Reading  \\\n",
       "School Name                                                                   \n",
       "Holden High School                      86      21.545667         20.140515   \n",
       "Pena High School                        91       7.796258          9.459459   \n",
       "Griffin High School                     79       5.517711          5.381471   \n",
       "Cabrera High School                     94       5.059203          5.059203   \n",
       "Thomas High School                      76       4.648318          4.648318   \n",
       "\n",
       "                     Overall %Passing  \n",
       "School Name                            \n",
       "Holden High School          20.843091  \n",
       "Pena High School             8.627859  \n",
       "Griffin High School          5.858311  \n",
       "Cabrera High School          5.059203  \n",
       "Thomas High School           4.648318  "
      ]
     },
     "execution_count": 27,
     "metadata": {},
     "output_type": "execute_result"
    }
   ],
   "source": [
    "top5_df=grouped_school_df_order.sort_values(by =\"Overall %Passing\", ascending=False)\n",
    "top5_df.head()\n",
    "                                  \n"
   ]
  },
  {
   "cell_type": "raw",
   "metadata": {},
   "source": []
  },
  {
   "cell_type": "markdown",
   "metadata": {},
   "source": [
    "## Bottom Performing Schools (By Passing Rate)"
   ]
  },
  {
   "cell_type": "markdown",
   "metadata": {},
   "source": [
    "* Sort and display the five worst-performing schools"
   ]
  },
  {
   "cell_type": "code",
   "execution_count": 28,
   "metadata": {},
   "outputs": [
    {
     "data": {
      "text/html": [
       "<div>\n",
       "<style scoped>\n",
       "    .dataframe tbody tr th:only-of-type {\n",
       "        vertical-align: middle;\n",
       "    }\n",
       "\n",
       "    .dataframe tbody tr th {\n",
       "        vertical-align: top;\n",
       "    }\n",
       "\n",
       "    .dataframe thead th {\n",
       "        text-align: right;\n",
       "    }\n",
       "</style>\n",
       "<table border=\"1\" class=\"dataframe\">\n",
       "  <thead>\n",
       "    <tr style=\"text-align: right;\">\n",
       "      <th></th>\n",
       "      <th>School Type</th>\n",
       "      <th>Total Students</th>\n",
       "      <th>Total Budget</th>\n",
       "      <th>Budget per Student</th>\n",
       "      <th>Average Math Score</th>\n",
       "      <th>Average Reading Score</th>\n",
       "      <th>%Passing Math</th>\n",
       "      <th>%Passing Reading</th>\n",
       "      <th>Overall %Passing</th>\n",
       "    </tr>\n",
       "    <tr>\n",
       "      <th>School Name</th>\n",
       "      <th></th>\n",
       "      <th></th>\n",
       "      <th></th>\n",
       "      <th></th>\n",
       "      <th></th>\n",
       "      <th></th>\n",
       "      <th></th>\n",
       "      <th></th>\n",
       "      <th></th>\n",
       "    </tr>\n",
       "  </thead>\n",
       "  <tbody>\n",
       "    <tr>\n",
       "      <td>Bailey High School</td>\n",
       "      <td>District</td>\n",
       "      <td>4976</td>\n",
       "      <td>3124928</td>\n",
       "      <td>628.0</td>\n",
       "      <td>59</td>\n",
       "      <td>75</td>\n",
       "      <td>1.728296</td>\n",
       "      <td>1.507235</td>\n",
       "      <td>1.657958</td>\n",
       "    </tr>\n",
       "    <tr>\n",
       "      <td>Hernandez High School</td>\n",
       "      <td>District</td>\n",
       "      <td>4635</td>\n",
       "      <td>3022020</td>\n",
       "      <td>652.0</td>\n",
       "      <td>88</td>\n",
       "      <td>70</td>\n",
       "      <td>1.898598</td>\n",
       "      <td>1.510248</td>\n",
       "      <td>1.704423</td>\n",
       "    </tr>\n",
       "    <tr>\n",
       "      <td>Johnson High School</td>\n",
       "      <td>District</td>\n",
       "      <td>4761</td>\n",
       "      <td>3094650</td>\n",
       "      <td>650.0</td>\n",
       "      <td>87</td>\n",
       "      <td>87</td>\n",
       "      <td>1.827347</td>\n",
       "      <td>1.827347</td>\n",
       "      <td>1.827347</td>\n",
       "    </tr>\n",
       "    <tr>\n",
       "      <td>Rodriguez High School</td>\n",
       "      <td>District</td>\n",
       "      <td>3999</td>\n",
       "      <td>2547363</td>\n",
       "      <td>637.0</td>\n",
       "      <td>81</td>\n",
       "      <td>74</td>\n",
       "      <td>2.025506</td>\n",
       "      <td>1.850463</td>\n",
       "      <td>1.937984</td>\n",
       "    </tr>\n",
       "    <tr>\n",
       "      <td>Ford High School</td>\n",
       "      <td>District</td>\n",
       "      <td>2739</td>\n",
       "      <td>1763916</td>\n",
       "      <td>644.0</td>\n",
       "      <td>94</td>\n",
       "      <td>66</td>\n",
       "      <td>3.431909</td>\n",
       "      <td>2.665206</td>\n",
       "      <td>2.701716</td>\n",
       "    </tr>\n",
       "  </tbody>\n",
       "</table>\n",
       "</div>"
      ],
      "text/plain": [
       "                      School Type  Total Students  Total Budget  \\\n",
       "School Name                                                       \n",
       "Bailey High School       District            4976       3124928   \n",
       "Hernandez High School    District            4635       3022020   \n",
       "Johnson High School      District            4761       3094650   \n",
       "Rodriguez High School    District            3999       2547363   \n",
       "Ford High School         District            2739       1763916   \n",
       "\n",
       "                       Budget per Student  Average Math Score  \\\n",
       "School Name                                                     \n",
       "Bailey High School                  628.0                  59   \n",
       "Hernandez High School               652.0                  88   \n",
       "Johnson High School                 650.0                  87   \n",
       "Rodriguez High School               637.0                  81   \n",
       "Ford High School                    644.0                  94   \n",
       "\n",
       "                       Average Reading Score  %Passing Math  %Passing Reading  \\\n",
       "School Name                                                                     \n",
       "Bailey High School                        75       1.728296          1.507235   \n",
       "Hernandez High School                     70       1.898598          1.510248   \n",
       "Johnson High School                       87       1.827347          1.827347   \n",
       "Rodriguez High School                     74       2.025506          1.850463   \n",
       "Ford High School                          66       3.431909          2.665206   \n",
       "\n",
       "                       Overall %Passing  \n",
       "School Name                              \n",
       "Bailey High School             1.657958  \n",
       "Hernandez High School          1.704423  \n",
       "Johnson High School            1.827347  \n",
       "Rodriguez High School          1.937984  \n",
       "Ford High School               2.701716  "
      ]
     },
     "execution_count": 28,
     "metadata": {},
     "output_type": "execute_result"
    }
   ],
   "source": [
    "bot5_df=grouped_school_df_order.sort_values(by =\"Overall %Passing\", ascending=True)\n",
    "bot5_df.head()"
   ]
  },
  {
   "cell_type": "markdown",
   "metadata": {
    "collapsed": true
   },
   "source": [
    "## Math Scores by Grade"
   ]
  },
  {
   "cell_type": "markdown",
   "metadata": {},
   "source": [
    "* Create a table that lists the average Reading Score for students of each grade level (9th, 10th, 11th, 12th) at each school.\n",
    "\n",
    "  * Create a pandas series for each grade. Hint: use a conditional statement.\n",
    "  \n",
    "  * Group each series by school\n",
    "  \n",
    "  * Combine the series into a dataframe\n",
    "  \n",
    "  * Optional: give the displayed data cleaner formatting"
   ]
  },
  {
   "cell_type": "code",
   "execution_count": 29,
   "metadata": {},
   "outputs": [
    {
     "data": {
      "text/html": [
       "<div>\n",
       "<style scoped>\n",
       "    .dataframe tbody tr th:only-of-type {\n",
       "        vertical-align: middle;\n",
       "    }\n",
       "\n",
       "    .dataframe tbody tr th {\n",
       "        vertical-align: top;\n",
       "    }\n",
       "\n",
       "    .dataframe thead th {\n",
       "        text-align: right;\n",
       "    }\n",
       "</style>\n",
       "<table border=\"1\" class=\"dataframe\">\n",
       "  <thead>\n",
       "    <tr style=\"text-align: right;\">\n",
       "      <th></th>\n",
       "      <th>school_name</th>\n",
       "      <th>grade</th>\n",
       "      <th>math_score</th>\n",
       "    </tr>\n",
       "  </thead>\n",
       "  <tbody>\n",
       "    <tr>\n",
       "      <td>0</td>\n",
       "      <td>Huang High School</td>\n",
       "      <td>9th</td>\n",
       "      <td>79</td>\n",
       "    </tr>\n",
       "    <tr>\n",
       "      <td>1</td>\n",
       "      <td>Huang High School</td>\n",
       "      <td>12th</td>\n",
       "      <td>61</td>\n",
       "    </tr>\n",
       "    <tr>\n",
       "      <td>2</td>\n",
       "      <td>Huang High School</td>\n",
       "      <td>12th</td>\n",
       "      <td>60</td>\n",
       "    </tr>\n",
       "    <tr>\n",
       "      <td>3</td>\n",
       "      <td>Huang High School</td>\n",
       "      <td>12th</td>\n",
       "      <td>58</td>\n",
       "    </tr>\n",
       "    <tr>\n",
       "      <td>4</td>\n",
       "      <td>Huang High School</td>\n",
       "      <td>9th</td>\n",
       "      <td>84</td>\n",
       "    </tr>\n",
       "    <tr>\n",
       "      <td>...</td>\n",
       "      <td>...</td>\n",
       "      <td>...</td>\n",
       "      <td>...</td>\n",
       "    </tr>\n",
       "    <tr>\n",
       "      <td>39165</td>\n",
       "      <td>Thomas High School</td>\n",
       "      <td>12th</td>\n",
       "      <td>90</td>\n",
       "    </tr>\n",
       "    <tr>\n",
       "      <td>39166</td>\n",
       "      <td>Thomas High School</td>\n",
       "      <td>10th</td>\n",
       "      <td>70</td>\n",
       "    </tr>\n",
       "    <tr>\n",
       "      <td>39167</td>\n",
       "      <td>Thomas High School</td>\n",
       "      <td>9th</td>\n",
       "      <td>84</td>\n",
       "    </tr>\n",
       "    <tr>\n",
       "      <td>39168</td>\n",
       "      <td>Thomas High School</td>\n",
       "      <td>10th</td>\n",
       "      <td>90</td>\n",
       "    </tr>\n",
       "    <tr>\n",
       "      <td>39169</td>\n",
       "      <td>Thomas High School</td>\n",
       "      <td>11th</td>\n",
       "      <td>75</td>\n",
       "    </tr>\n",
       "  </tbody>\n",
       "</table>\n",
       "<p>39170 rows × 3 columns</p>\n",
       "</div>"
      ],
      "text/plain": [
       "              school_name grade  math_score\n",
       "0       Huang High School   9th          79\n",
       "1       Huang High School  12th          61\n",
       "2       Huang High School  12th          60\n",
       "3       Huang High School  12th          58\n",
       "4       Huang High School   9th          84\n",
       "...                   ...   ...         ...\n",
       "39165  Thomas High School  12th          90\n",
       "39166  Thomas High School  10th          70\n",
       "39167  Thomas High School   9th          84\n",
       "39168  Thomas High School  10th          90\n",
       "39169  Thomas High School  11th          75\n",
       "\n",
       "[39170 rows x 3 columns]"
      ]
     },
     "execution_count": 29,
     "metadata": {},
     "output_type": "execute_result"
    }
   ],
   "source": [
    "#Extra columns needed\n",
    "math_grade=school_data_complete[[\"school_name\", \"grade\",\"math_score\"]]\n",
    "math_grade"
   ]
  },
  {
   "cell_type": "code",
   "execution_count": 44,
   "metadata": {},
   "outputs": [
    {
     "data": {
      "text/plain": [
       "0        79\n",
       "4        84\n",
       "5        94\n",
       "12       79\n",
       "13       79\n",
       "         ..\n",
       "39152    84\n",
       "39153    75\n",
       "39157    94\n",
       "39164    76\n",
       "39167    84\n",
       "Name: math_score, Length: 11408, dtype: int64"
      ]
     },
     "execution_count": 44,
     "metadata": {},
     "output_type": "execute_result"
    }
   ],
   "source": [
    "math_grade_9=math_grade.loc[(math_grade[\"grade\"] == '9th')][\"math_score\"]\n",
    "math_grade_9"
   ]
  },
  {
   "cell_type": "code",
   "execution_count": 45,
   "metadata": {},
   "outputs": [
    {
     "ename": "TypeError",
     "evalue": "'method' object is not subscriptable",
     "output_type": "error",
     "traceback": [
      "\u001b[1;31m---------------------------------------------------------------------------\u001b[0m",
      "\u001b[1;31mTypeError\u001b[0m                                 Traceback (most recent call last)",
      "\u001b[1;32m<ipython-input-45-789ace7ebd13>\u001b[0m in \u001b[0;36m<module>\u001b[1;34m\u001b[0m\n\u001b[1;32m----> 1\u001b[1;33m \u001b[0mmath_grade_9group\u001b[0m\u001b[1;33m=\u001b[0m\u001b[0mmath_grade_9\u001b[0m\u001b[1;33m.\u001b[0m\u001b[0mgroupby\u001b[0m\u001b[1;33m[\u001b[0m\u001b[1;33m(\u001b[0m\u001b[1;34m'school_name'\u001b[0m\u001b[1;33m)\u001b[0m\u001b[1;33m]\u001b[0m\u001b[1;33m\u001b[0m\u001b[1;33m\u001b[0m\u001b[0m\n\u001b[0m\u001b[0;32m      2\u001b[0m \u001b[0mmath_grade_9group\u001b[0m\u001b[1;33m\u001b[0m\u001b[1;33m\u001b[0m\u001b[0m\n",
      "\u001b[1;31mTypeError\u001b[0m: 'method' object is not subscriptable"
     ]
    }
   ],
   "source": [
    "math_grade_9group=math_grade_9.groupby[('school_name')]\n",
    "math_grade_9group"
   ]
  },
  {
   "cell_type": "code",
   "execution_count": 37,
   "metadata": {},
   "outputs": [
    {
     "data": {
      "text/plain": [
       "8        87\n",
       "9        84\n",
       "10       70\n",
       "11       77\n",
       "14       67\n",
       "         ..\n",
       "39155    98\n",
       "39158    90\n",
       "39161    84\n",
       "39166    70\n",
       "39168    90\n",
       "Name: math_score, Length: 10168, dtype: int64"
      ]
     },
     "execution_count": 37,
     "metadata": {},
     "output_type": "execute_result"
    }
   ],
   "source": [
    "math_grade_10=math_grade.loc[(math_grade[\"grade\"] == '10th')][\"math_score\"]\n",
    "math_grade_10"
   ]
  },
  {
   "cell_type": "code",
   "execution_count": 39,
   "metadata": {},
   "outputs": [
    {
     "data": {
      "text/plain": [
       "6        80\n",
       "15       88\n",
       "22       84\n",
       "24       73\n",
       "28       55\n",
       "         ..\n",
       "39156    95\n",
       "39159    72\n",
       "39160    86\n",
       "39163    75\n",
       "39169    75\n",
       "Name: math_score, Length: 9695, dtype: int64"
      ]
     },
     "execution_count": 39,
     "metadata": {},
     "output_type": "execute_result"
    }
   ],
   "source": [
    "math_grade_11=math_grade.loc[(math_grade[\"grade\"] == '11th')][\"math_score\"]\n",
    "math_grade_11"
   ]
  },
  {
   "cell_type": "code",
   "execution_count": 38,
   "metadata": {},
   "outputs": [
    {
     "data": {
      "text/plain": [
       "1        61\n",
       "2        60\n",
       "3        58\n",
       "7        69\n",
       "29       88\n",
       "         ..\n",
       "39137    70\n",
       "39144    87\n",
       "39154    71\n",
       "39162    77\n",
       "39165    90\n",
       "Name: math_score, Length: 7899, dtype: int64"
      ]
     },
     "execution_count": 38,
     "metadata": {},
     "output_type": "execute_result"
    }
   ],
   "source": [
    "math_grade_12=math_grade.loc[(math_grade[\"grade\"] == '12th')][\"math_score\"]\n",
    "math_grade_12"
   ]
  },
  {
   "cell_type": "markdown",
   "metadata": {},
   "source": [
    "## Reading Score by Grade "
   ]
  },
  {
   "cell_type": "markdown",
   "metadata": {},
   "source": [
    "* Perform the same operations as above for reading scores"
   ]
  },
  {
   "cell_type": "code",
   "execution_count": null,
   "metadata": {},
   "outputs": [],
   "source": []
  },
  {
   "cell_type": "markdown",
   "metadata": {},
   "source": [
    "## Scores by School Spending"
   ]
  },
  {
   "cell_type": "markdown",
   "metadata": {},
   "source": [
    "* Create a table that breaks down school performances based on average Spending Ranges (Per Student). Use 4 reasonable bins to group school spending. Include in the table each of the following:\n",
    "  * Average Math Score\n",
    "  * Average Reading Score\n",
    "  * % Passing Math\n",
    "  * % Passing Reading\n",
    "  * Overall Passing Rate (Average of the above two)"
   ]
  },
  {
   "cell_type": "code",
   "execution_count": null,
   "metadata": {},
   "outputs": [],
   "source": [
    "# Sample bins. Feel free to create your own bins.\n",
    "spending_bins = [0, 585, 615, 645, 675]\n",
    "group_names = [\"<$585\", \"$585-615\", \"$615-645\", \"$645-675\"]"
   ]
  },
  {
   "cell_type": "code",
   "execution_count": null,
   "metadata": {},
   "outputs": [],
   "source": []
  },
  {
   "cell_type": "markdown",
   "metadata": {},
   "source": [
    "## Scores by School Size"
   ]
  },
  {
   "cell_type": "markdown",
   "metadata": {},
   "source": [
    "* Perform the same operations as above, based on school size."
   ]
  },
  {
   "cell_type": "code",
   "execution_count": null,
   "metadata": {},
   "outputs": [],
   "source": [
    "# Sample bins. Feel free to create your own bins.\n",
    "size_bins = [0, 1000, 2000, 5000]\n",
    "group_names = [\"Small (<1000)\", \"Medium (1000-2000)\", \"Large (2000-5000)\"]"
   ]
  },
  {
   "cell_type": "code",
   "execution_count": null,
   "metadata": {
    "scrolled": true
   },
   "outputs": [],
   "source": []
  },
  {
   "cell_type": "markdown",
   "metadata": {},
   "source": [
    "## Scores by School Type"
   ]
  },
  {
   "cell_type": "markdown",
   "metadata": {},
   "source": [
    "* Perform the same operations as above, based on school type."
   ]
  },
  {
   "cell_type": "code",
   "execution_count": null,
   "metadata": {},
   "outputs": [],
   "source": []
  },
  {
   "cell_type": "code",
   "execution_count": null,
   "metadata": {},
   "outputs": [],
   "source": []
  }
 ],
 "metadata": {
  "anaconda-cloud": {},
  "kernel_info": {
   "name": "python3"
  },
  "kernelspec": {
   "display_name": "Python 3",
   "language": "python",
   "name": "python3"
  },
  "language_info": {
   "codemirror_mode": {
    "name": "ipython",
    "version": 3
   },
   "file_extension": ".py",
   "mimetype": "text/x-python",
   "name": "python",
   "nbconvert_exporter": "python",
   "pygments_lexer": "ipython3",
   "version": "3.7.4"
  },
  "latex_envs": {
   "LaTeX_envs_menu_present": true,
   "autoclose": false,
   "autocomplete": true,
   "bibliofile": "biblio.bib",
   "cite_by": "apalike",
   "current_citInitial": 1,
   "eqLabelWithNumbers": true,
   "eqNumInitial": 1,
   "hotkeys": {
    "equation": "Ctrl-E",
    "itemize": "Ctrl-I"
   },
   "labels_anchors": false,
   "latex_user_defs": false,
   "report_style_numbering": false,
   "user_envs_cfg": false
  },
  "nteract": {
   "version": "0.8.4"
  }
 },
 "nbformat": 4,
 "nbformat_minor": 1
}
